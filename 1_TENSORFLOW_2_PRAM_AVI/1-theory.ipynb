{
 "cells": [
  {
   "attachments": {},
   "cell_type": "markdown",
   "metadata": {},
   "source": [
    "## Tensor\n",
    "\n",
    "At the end of the day, a tensor is also a mathematical entity with which to\n",
    "represent different properties, similar to a scalar, vector, or matrix. It is true\n",
    "that a tensor is a generalization of a scalar or vector. In short, tensors are\n",
    "multidimensional arrays that have some dynamic properties. A vector is a\n",
    "one-dimensional tensor, whereas two-dimensional tensors are matrices\n",
    "\n",
    "Note:\n",
    "- 6 rows, 1 column is a tensor of dimensions [6] or vector of dimension 6\n",
    "- 6 rows, 4 column is a tensor of dimensions [6, 4] or matrix of 6 by 4\n",
    "- 4 parallel rows, 2 parallel is a tensor of dimensions [4,4,2] "
   ]
  },
  {
   "cell_type": "markdown",
   "metadata": {},
   "source": [
    "## Rank\n",
    "Ranking tensors can sometimes be confusing for some people, but in terms\n",
    "of tensors, rank simply indicates the number of directions required to\n",
    "describe the properties of an object, meaning the dimensions of the array\n",
    "contained in the tensor itself. Breaking this down for different objects, a\n",
    "scalar doesn’t have any direction and, hence, automatically becomes a\n",
    "rank 0 tensor, whereas a vector, which can be described using only one\n",
    "direction, becomes a first rank tensor. The next object, which is a matrix,\n",
    "requires two directions to describe it and becomes a second rank tensor."
   ]
  },
  {
   "attachments": {},
   "cell_type": "markdown",
   "metadata": {},
   "source": [
    "## Shape\n",
    "The shape of a tensor represents the number of values in each dimension.\n",
    "\n",
    "Scalar—32: The shape of the tensor would be [ ].\n",
    "\n",
    "Vector—[3, 4, 5]: The shape of the first rank tensor\n",
    "would be [3].\n",
    "\n",
    "Matrix =\n",
    "[[1 2 3],\n",
    "[4 5 6],\n",
    "[7 8 9]]\n",
    ": The second rank tensor would\n",
    "have a shape of [3, 3]."
   ]
  },
  {
   "cell_type": "code",
   "execution_count": null,
   "metadata": {},
   "outputs": [],
   "source": []
  }
 ],
 "metadata": {
  "language_info": {
   "name": "python"
  },
  "orig_nbformat": 4
 },
 "nbformat": 4,
 "nbformat_minor": 2
}
